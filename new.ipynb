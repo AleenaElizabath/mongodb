{
 "cells": [
  {
   "cell_type": "code",
   "execution_count": null,
   "metadata": {},
   "outputs": [
    {
     "name": "stdout",
     "output_type": "stream",
     "text": [
      "{'_id': 5, 'Grade': 'A'}\n",
      "{'_id': 6, 'Grade': 'A'}\n",
      "{'_id': ObjectId('67d92f99624daed9ee5f04a6'), 'Grade': 'A'}\n",
      "{'_id': ObjectId('67d92f99624daed9ee5f04a5'), 'Grade': 'A'}\n",
      "{'_id': ObjectId('67d92f99624daed9ee5f04a4'), 'Grade': 'A'}\n",
      "{'_id': ObjectId('67d92f99624daed9ee5f04a3'), 'Grade': 'A'}\n",
      "{'_id': ObjectId('67d92d963743ad57f03e0019'), 'Grade': 'A'}\n",
      "{'_id': 3, 'Grade': 'A'}\n",
      "{'_id': 4, 'Grade': 'A'}\n",
      "{'_id': 2, 'Grade': 'A'}\n"
     ]
    }
   ],
   "source": [
    "import pymongo\n",
    "dbcon=pymongo.MongoClient(\"mongodb://localhost:27017/\")\n",
    "db=dbcon[\"Aleena\"]\n",
    "col=db[\"Student\"]\n",
    "var1=col.find({},{\"Grade\":\"A\"}).sort({\"Name\"})\n",
    "for i in var1:\n",
    "    print(i)"
   ]
  },
  {
   "cell_type": "code",
   "execution_count": null,
   "metadata": {},
   "outputs": [],
   "source": []
  }
 ],
 "metadata": {
  "kernelspec": {
   "display_name": "Python 3",
   "language": "python",
   "name": "python3"
  },
  "language_info": {
   "codemirror_mode": {
    "name": "ipython",
    "version": 3
   },
   "file_extension": ".py",
   "mimetype": "text/x-python",
   "name": "python",
   "nbconvert_exporter": "python",
   "pygments_lexer": "ipython3",
   "version": "3.12.0"
  }
 },
 "nbformat": 4,
 "nbformat_minor": 2
}
