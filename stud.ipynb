{
 "cells": [
  {
   "cell_type": "code",
   "execution_count": null,
   "metadata": {},
   "outputs": [
    {
     "name": "stdout",
     "output_type": "stream",
     "text": [
      "{'_id': 4, 'Name': 'Aleena'}\n"
     ]
    },
    {
     "data": {
      "text/plain": [
       "DeleteResult({'n': 0, 'ok': 1.0}, acknowledged=True)"
      ]
     },
     "execution_count": 48,
     "metadata": {},
     "output_type": "execute_result"
    }
   ],
   "source": [
    "import pymongo\n",
    "dbcon=pymongo.MongoClient(\"mongodb://localhost:27017/\")\n",
    "db=dbcon['Aleena']\n",
    "col=db['Stud1']\n",
    "#col1=[{'_id':4,\"Name\":\"Aleena\",\"Age\":21,\"Place\":\"Clt\"},{'_id':5,\"Name\":\"Priya\",\"Age\":22,\"Place\":\"Idk\"},{'_id':6,\"Name\":\"Anu\",\"Age\":23,\"Place\":\"Alp\"}]\n",
    "#col.insert_many(col1)\n",
    "val=col.find({\"Name\":{\"$regex\":\"^A\"}},{\"Name\":1})\n",
    "for i in val:\n",
    "    print(i)\n",
    "col.delete_many({\"Age\":23})\n",
    "#cond={\"Age\":21}\n",
    "#nval={\"$set\":{\"Place\":\"Tvm\"}}\n",
    "#col.update_many(cond,nval)\n"
   ]
  },
  {
   "cell_type": "code",
   "execution_count": null,
   "metadata": {},
   "outputs": [],
   "source": []
  },
  {
   "cell_type": "code",
   "execution_count": null,
   "metadata": {},
   "outputs": [],
   "source": []
  },
  {
   "cell_type": "code",
   "execution_count": null,
   "metadata": {},
   "outputs": [],
   "source": []
  }
 ],
 "metadata": {
  "kernelspec": {
   "display_name": "Python 3",
   "language": "python",
   "name": "python3"
  },
  "language_info": {
   "codemirror_mode": {
    "name": "ipython",
    "version": 3
   },
   "file_extension": ".py",
   "mimetype": "text/x-python",
   "name": "python",
   "nbconvert_exporter": "python",
   "pygments_lexer": "ipython3",
   "version": "3.12.0"
  }
 },
 "nbformat": 4,
 "nbformat_minor": 2
}
