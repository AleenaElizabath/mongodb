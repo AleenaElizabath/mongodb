{
 "cells": [
  {
   "cell_type": "code",
   "execution_count": null,
   "metadata": {},
   "outputs": [],
   "source": [
    "import pymongo\n",
    "dbcon=pymongo.MongoClient(\"mongodb://localhost:27017/\")\n",
    "db=dbcon['Aleena']\n",
    "col=db['Stud1']\n",
    "#col1=[{'_id':4,\"Name\":\"Aleena\",\"Age\":21,\"Place\":\"Clt\"},{'_id':5,\"Name\":\"Priya\",\"Age\":22,\"Place\":\"Idk\"},{'_id':6,\"Name\":\"Anu\",\"Age\":23,\"Place\":\"Alp\"}]\n",
    "#col.insert_many(col1)\n",
    "val=col.find({\"Name\":{\"$regex\":\"^A\"}},{\"Name\":1})\n",
    "for i in val:\n",
    "    print(i)\n",
    "col.delete_many({\"Age\":23})\n",
    "#cond={\"Age\":21}\n",
    "#nval={\"$set\":{\"Place\":\"Tvm\"}}\n",
    "#col.update_many(cond,nval)\n"
   ]
  },
  {
   "cell_type": "code",
   "execution_count": 24,
   "metadata": {},
   "outputs": [
    {
     "name": "stdout",
     "output_type": "stream",
     "text": [
      "QU1\n",
      "{'_id': 1, 'FName': 'Aleena', 'LName': 'E', 'Marks': 90}\n",
      "{'_id': 18, 'FName': 'Ava', 'LName': 'Green', 'Marks': 93}\n",
      "QU2:\n",
      "{'_id': 18, 'FName': 'Ava', 'LName': 'Green', 'Dept': 'CA', 'Course': 'MCA', 'Place': 'Tvm', 'Marks': 93, 'Grade': 'A', 'Gender': 'Female'}\n",
      "QU3:\n",
      "{'_id': 10, 'FName': 'Jack'}\n",
      "QU4:\n",
      "{'_id': 23, 'FName': 'Oliver', 'LName': 'Hernandez', 'Dept': 'Mech', 'Course': 'B.Tech', 'Place': 'Kochi', 'Marks': 88, 'Grade': 'B', 'Gender': 'Male'}\n",
      "{'_id': 21, 'FName': 'Ethan', 'LName': 'Roberts', 'Dept': 'Mech', 'Course': 'B.Tech', 'Place': 'Delhi', 'Marks': 85, 'Grade': 'B', 'Gender': 'Male'}\n",
      "{'_id': 25, 'FName': 'Noah', 'LName': 'Gonzalez', 'Dept': 'Mech', 'Course': 'B.Tech', 'Place': 'Pune', 'Marks': 75, 'Grade': 'C', 'Gender': 'Male'}\n",
      "QU5\n",
      "{'_id': 4, 'FName': 'Emily', 'LName': 'Johnson', 'Dept': 'MBA', 'Course': 'MBA', 'Place': 'Malprm', 'Marks': 92, 'Grade': 'A', 'Gender': 'Female'}\n",
      "{'_id': 7, 'FName': 'Sophia', 'LName': 'Davis', 'Dept': 'CSE', 'Course': 'M.Tech', 'Place': 'Mumbai', 'Marks': 95, 'Grade': 'A', 'Gender': 'Female'}\n",
      "{'_id': 13, 'FName': 'Charlotte', 'LName': 'Clark', 'Dept': 'Civil', 'Course': 'M.Tech', 'Place': 'Trivandrum', 'Marks': 96, 'Grade': 'A', 'Gender': 'Female'}\n",
      "{'_id': 18, 'FName': 'Ava', 'LName': 'Green', 'Dept': 'CA', 'Course': 'MCA', 'Place': 'Tvm', 'Marks': 93, 'Grade': 'A', 'Gender': 'Female'}\n",
      "{'_id': 24, 'FName': 'Amelia', 'LName': 'Lopez', 'Dept': 'Mech', 'Course': 'M.Tech', 'Place': 'Malprm', 'Marks': 92, 'Grade': 'A', 'Gender': 'Female'}\n",
      "QU6\n",
      "{'_id': 1, 'FName': 'Aleena', 'LName': 'E', 'Dept': 'CA', 'Course': 'MCA', 'Place': 'Clt', 'Marks': 90, 'Grade': 'A', 'Gender': 'Female'}\n",
      "{'_id': 2, 'FName': 'John', 'LName': 'Smith', 'Dept': 'CA', 'Course': 'BCA', 'Place': 'Kochi', 'Marks': 85, 'Grade': 'B', 'Gender': 'Male'}\n",
      "{'_id': 5, 'FName': 'Daniel', 'LName': 'Williams', 'Dept': 'CA', 'Course': 'MCA', 'Place': 'Chennai', 'Marks': 88, 'Grade': 'B', 'Gender': 'Male'}\n",
      "{'_id': 8, 'FName': 'Michael', 'LName': 'Miller', 'Dept': 'EEE', 'Course': 'M.Tech', 'Place': 'Delhi', 'Marks': 84, 'Grade': 'B', 'Gender': 'Male'}\n",
      "{'_id': 9, 'FName': 'Laura', 'LName': 'Wilson', 'Dept': 'CSE', 'Course': 'B.Tech', 'Place': 'Malprm', 'Marks': 80, 'Grade': 'B', 'Gender': 'Female'}\n",
      "{'_id': 11, 'FName': 'Olivia', 'LName': 'Adams', 'Dept': 'MBA', 'Course': 'BBA', 'Place': 'Clt', 'Marks': 83, 'Grade': 'B', 'Gender': 'Female'}\n",
      "{'_id': 15, 'FName': 'Benjamin', 'LName': 'Young', 'Dept': 'CSE', 'Course': 'M.Tech', 'Place': 'Tvm', 'Marks': 89, 'Grade': 'B', 'Gender': 'Male'}\n",
      "{'_id': 16, 'FName': 'Ella', 'LName': 'King', 'Dept': 'CSE', 'Course': 'B.Tech', 'Place': 'Hyderabad', 'Marks': 81, 'Grade': 'B', 'Gender': 'Female'}\n",
      "{'_id': 20, 'FName': 'Mia', 'LName': 'Nelson', 'Dept': 'CSE', 'Course': 'M.Tech', 'Place': 'Pune', 'Marks': 90, 'Grade': 'A', 'Gender': 'Female'}\n",
      "{'_id': 21, 'FName': 'Ethan', 'LName': 'Roberts', 'Dept': 'Mech', 'Course': 'B.Tech', 'Place': 'Delhi', 'Marks': 85, 'Grade': 'B', 'Gender': 'Male'}\n",
      "{'_id': 22, 'FName': 'Isabella', 'LName': 'Martinez', 'Dept': 'Mech', 'Course': 'M.Tech', 'Place': 'Bangalore', 'Marks': 90, 'Grade': 'A', 'Gender': 'Female'}\n",
      "{'_id': 23, 'FName': 'Oliver', 'LName': 'Hernandez', 'Dept': 'Mech', 'Course': 'B.Tech', 'Place': 'Kochi', 'Marks': 88, 'Grade': 'B', 'Gender': 'Male'}\n",
      "QU7\n",
      "{'_id': 1, 'FName': 'Aleena', 'LName': 'E', 'Dept': 'CA', 'Course': 'MCA', 'Place': 'Clt', 'Marks': 90, 'Grade': 'A', 'Gender': 'Female'}\n",
      "{'_id': 18, 'FName': 'Ava', 'LName': 'Green', 'Dept': 'CA', 'Course': 'MCA', 'Place': 'Tvm', 'Marks': 93, 'Grade': 'A', 'Gender': 'Female'}\n",
      "{'_id': 24, 'FName': 'Amelia', 'LName': 'Lopez', 'Dept': 'Mech', 'Course': 'M.Tech', 'Place': 'Malprm', 'Marks': 92, 'Grade': 'A', 'Gender': 'Female'}\n",
      "QU8\n",
      "{'_id': 6, 'FName': 'Chris', 'LName': 'Taylor', 'Dept': 'Civil', 'Course': 'B.Tech', 'Place': 'Tvm', 'Marks': 76, 'Grade': 'C', 'Gender': 'Male'}\n",
      "{'_id': 14, 'FName': 'William', 'LName': 'Lewis', 'Dept': 'MBA', 'Course': 'BBA', 'Place': 'Tvm', 'Marks': 74, 'Grade': 'C', 'Gender': 'Male'}\n",
      "{'_id': 15, 'FName': 'Benjamin', 'LName': 'Young', 'Dept': 'CSE', 'Course': 'M.Tech', 'Place': 'Tvm', 'Marks': 89, 'Grade': 'B', 'Gender': 'Male'}\n",
      "{'_id': 18, 'FName': 'Ava', 'LName': 'Green', 'Dept': 'CA', 'Course': 'MCA', 'Place': 'Tvm', 'Marks': 93, 'Grade': 'A', 'Gender': 'Female'}\n",
      "QU9\n",
      "{'_id': 1, 'FName': 'Aleena', 'LName': 'E', 'Dept': 'CA', 'Course': 'MCA', 'Place': 'Clt', 'Marks': 90, 'Grade': 'A', 'Gender': 'Female'}\n",
      "{'_id': 2, 'FName': 'John', 'LName': 'Smith', 'Dept': 'CA', 'Course': 'BCA', 'Place': 'Kochi', 'Marks': 85, 'Grade': 'B', 'Gender': 'Male'}\n",
      "{'_id': 3, 'FName': 'Sarah', 'LName': 'Brown', 'Dept': 'EEE', 'Course': 'B.Tech', 'Place': 'Trivandrum', 'Marks': 78, 'Grade': 'C', 'Gender': 'Female'}\n",
      "{'_id': 5, 'FName': 'Daniel', 'LName': 'Williams', 'Dept': 'CA', 'Course': 'MCA', 'Place': 'Chennai', 'Marks': 88, 'Grade': 'B', 'Gender': 'Male'}\n",
      "{'_id': 7, 'FName': 'Sophia', 'LName': 'Davis', 'Dept': 'CSE', 'Course': 'M.Tech', 'Place': 'Mumbai', 'Marks': 95, 'Grade': 'A', 'Gender': 'Female'}\n",
      "{'_id': 8, 'FName': 'Michael', 'LName': 'Miller', 'Dept': 'EEE', 'Course': 'M.Tech', 'Place': 'Delhi', 'Marks': 84, 'Grade': 'B', 'Gender': 'Male'}\n",
      "{'_id': 10, 'FName': 'Jack', 'LName': 'Moore', 'Dept': 'EEE', 'Course': 'B.Tech', 'Place': 'Pune', 'Marks': 91, 'Grade': 'A', 'Gender': 'Male'}\n",
      "{'_id': 11, 'FName': 'Olivia', 'LName': 'Adams', 'Dept': 'MBA', 'Course': 'BBA', 'Place': 'Clt', 'Marks': 83, 'Grade': 'B', 'Gender': 'Female'}\n",
      "{'_id': 12, 'FName': 'James', 'LName': 'Harris', 'Dept': 'CA', 'Course': 'BCA', 'Place': 'Kochi', 'Marks': 79, 'Grade': 'C', 'Gender': 'Male'}\n",
      "{'_id': 13, 'FName': 'Charlotte', 'LName': 'Clark', 'Dept': 'Civil', 'Course': 'M.Tech', 'Place': 'Trivandrum', 'Marks': 96, 'Grade': 'A', 'Gender': 'Female'}\n",
      "{'_id': 16, 'FName': 'Ella', 'LName': 'King', 'Dept': 'CSE', 'Course': 'B.Tech', 'Place': 'Hyderabad', 'Marks': 81, 'Grade': 'B', 'Gender': 'Female'}\n",
      "{'_id': 19, 'FName': 'Lucas', 'LName': 'Baker', 'Dept': 'Civil', 'Course': 'B.Tech', 'Place': 'Kolkata', 'Marks': 77, 'Grade': 'C', 'Gender': 'Male'}\n",
      "{'_id': 20, 'FName': 'Mia', 'LName': 'Nelson', 'Dept': 'CSE', 'Course': 'M.Tech', 'Place': 'Pune', 'Marks': 90, 'Grade': 'A', 'Gender': 'Female'}\n",
      "{'_id': 21, 'FName': 'Ethan', 'LName': 'Roberts', 'Dept': 'Mech', 'Course': 'B.Tech', 'Place': 'Delhi', 'Marks': 85, 'Grade': 'B', 'Gender': 'Male'}\n",
      "{'_id': 22, 'FName': 'Isabella', 'LName': 'Martinez', 'Dept': 'Mech', 'Course': 'M.Tech', 'Place': 'Bangalore', 'Marks': 90, 'Grade': 'A', 'Gender': 'Female'}\n",
      "{'_id': 23, 'FName': 'Oliver', 'LName': 'Hernandez', 'Dept': 'Mech', 'Course': 'B.Tech', 'Place': 'Kochi', 'Marks': 88, 'Grade': 'B', 'Gender': 'Male'}\n",
      "{'_id': 25, 'FName': 'Noah', 'LName': 'Gonzalez', 'Dept': 'Mech', 'Course': 'B.Tech', 'Place': 'Pune', 'Marks': 75, 'Grade': 'C', 'Gender': 'Male'}\n"
     ]
    }
   ],
   "source": [
    "import pymongo\n",
    "dbcon=pymongo.MongoClient(\"mongodb://localhost:27017/\")\n",
    "db=dbcon['Aleena']\n",
    "col=db['Details']\n",
    "val1=col.find({\"Gender\":\"Female\",\"Course\":\"MCA\"},{\"FName\",\"LName\",\"Marks\"})\n",
    "print(\"QU1\")\n",
    "for i in val1:\n",
    "    print(i)\n",
    "print(\"QU2:\")\n",
    "val2=col.find({\"Course\":\"MCA\"}).sort(\"Marks\",-1).limit(1)\n",
    "for i in val2:\n",
    "    print(i)\n",
    "print(\"QU3:\")\n",
    "val3=col.find({\"Gender\":\"Male\",\"Grade\":\"A\"},{\"FName\"})\n",
    "for i in val3:\n",
    "    print(i)\n",
    "print(\"QU4:\")\n",
    "val4=col.find({\"Dept\":\"Mech\",\"Gender\":\"Male\"}).sort(\"Marks\",-1).limit(5)\n",
    "for i in val4:\n",
    "    print(i)\n",
    "print(\"QU5\")\n",
    "val5=col.find({\"Gender\":\"Female\",\"Marks\":{\"$gt\":90}})\n",
    "for i in val5:\n",
    "    print(i)\n",
    "print(\"QU6\")\n",
    "val6=col.find({\"Marks\":{\"$gte\":80,\"$lte\":90}})\n",
    "for i in val6:\n",
    "    print(i)\n",
    "print(\"QU7\")\n",
    "val7 = col.find({\"FName\":{\"$regex\":\"^A\"}})\n",
    "for i in val7:\n",
    "    print(i)\n",
    "print(\"QU8\")\n",
    "val8=col.find({\"Place\":\"Tvm\"})\n",
    "for i in val8:\n",
    "    print(i)\n",
    "print(\"QU9\")\n",
    "val9=col.find({\"$nor\":[{\"Place\":\"Tvm\"},{\"Place\":\"Malprm\"}]})\n",
    "for i in val9:\n",
    "    print(i)"
   ]
  },
  {
   "cell_type": "code",
   "execution_count": null,
   "metadata": {},
   "outputs": [
    {
     "name": "stdout",
     "output_type": "stream",
     "text": [
      "QU7\n"
     ]
    }
   ],
   "source": [
    "print(\"QU7\")\n",
    "val=col.find({\"FName\":{\"$regex\":\"^A\"}},{\"Name\":1})\n",
    "for i in val7:\n",
    "    print(i)"
   ]
  },
  {
   "cell_type": "code",
   "execution_count": 69,
   "metadata": {},
   "outputs": [
    {
     "data": {
      "text/plain": [
       "InsertManyResult([1, 2, 3, 4, 5, 6, 7, 8, 9, 10, 11, 12, 13, 14, 15, 16, 17, 18, 19, 20, 21, 22, 23, 24, 25], acknowledged=True)"
      ]
     },
     "execution_count": 69,
     "metadata": {},
     "output_type": "execute_result"
    }
   ],
   "source": [
    "import pymongo\n",
    "dbcon=pymongo.MongoClient(\"mongodb://localhost:27017/\")\n",
    "db=dbcon['Aleena']\n",
    "col=db['Details']\n",
    "students_data = [\n",
    "    {'_id': 1, 'FName': 'Aleena', 'LName': 'E', 'Dept': 'CA', 'Course': 'MCA', 'Place': 'Clt', 'Marks': 90, 'Grade': 'A', 'Gender': 'Female'},\n",
    "    {'_id': 2, 'FName': 'John', 'LName': 'Smith', 'Dept': 'CA', 'Course': 'BCA', 'Place': 'Kochi', 'Marks': 85, 'Grade': 'B', 'Gender': 'Male'},\n",
    "    {'_id': 3, 'FName': 'Sarah', 'LName': 'Brown', 'Dept': 'EEE', 'Course': 'B.Tech', 'Place': 'Trivandrum', 'Marks': 78, 'Grade': 'C', 'Gender': 'Female'},\n",
    "    {'_id': 4, 'FName': 'Emily', 'LName': 'Johnson', 'Dept': 'MBA', 'Course': 'MBA', 'Place': 'Bangalore', 'Marks': 92, 'Grade': 'A', 'Gender': 'Female'},\n",
    "    {'_id': 5, 'FName': 'Daniel', 'LName': 'Williams', 'Dept': 'CA', 'Course': 'MCA', 'Place': 'Chennai', 'Marks': 88, 'Grade': 'B', 'Gender': 'Male'},\n",
    "    {'_id': 6, 'FName': 'Chris', 'LName': 'Taylor', 'Dept': 'Civil', 'Course': 'B.Tech', 'Place': 'Hyderabad', 'Marks': 76, 'Grade': 'C', 'Gender': 'Male'},\n",
    "    {'_id': 7, 'FName': 'Sophia', 'LName': 'Davis', 'Dept': 'CSE', 'Course': 'M.Tech', 'Place': 'Mumbai', 'Marks': 95, 'Grade': 'A', 'Gender': 'Female'},\n",
    "    {'_id': 8, 'FName': 'Michael', 'LName': 'Miller', 'Dept': 'EEE', 'Course': 'M.Tech', 'Place': 'Delhi', 'Marks': 84, 'Grade': 'B', 'Gender': 'Male'},\n",
    "    {'_id': 9, 'FName': 'Laura', 'LName': 'Wilson', 'Dept': 'CSE', 'Course': 'B.Tech', 'Place': 'Kolkata', 'Marks': 80, 'Grade': 'B', 'Gender': 'Female'},\n",
    "    {'_id': 10, 'FName': 'Jack', 'LName': 'Moore', 'Dept': 'EEE', 'Course': 'B.Tech', 'Place': 'Pune', 'Marks': 91, 'Grade': 'A', 'Gender': 'Male'},\n",
    "    {'_id': 11, 'FName': 'Olivia', 'LName': 'Adams', 'Dept': 'MBA', 'Course': 'BBA', 'Place': 'Clt', 'Marks': 83, 'Grade': 'B', 'Gender': 'Female'},\n",
    "    {'_id': 12, 'FName': 'James', 'LName': 'Harris', 'Dept': 'CA', 'Course': 'BCA', 'Place': 'Kochi', 'Marks': 79, 'Grade': 'C', 'Gender': 'Male'},\n",
    "    {'_id': 13, 'FName': 'Charlotte', 'LName': 'Clark', 'Dept': 'Civil', 'Course': 'M.Tech', 'Place': 'Trivandrum', 'Marks': 96, 'Grade': 'A', 'Gender': 'Female'},\n",
    "    {'_id': 14, 'FName': 'William', 'LName': 'Lewis', 'Dept': 'MBA', 'Course': 'BBA', 'Place': 'Bangalore', 'Marks': 74, 'Grade': 'C', 'Gender': 'Male'},\n",
    "    {'_id': 15, 'FName': 'Benjamin', 'LName': 'Young', 'Dept': 'CSE', 'Course': 'M.Tech', 'Place': 'Chennai', 'Marks': 89, 'Grade': 'B', 'Gender': 'Male'},\n",
    "    {'_id': 16, 'FName': 'Ella', 'LName': 'King', 'Dept': 'CSE', 'Course': 'B.Tech', 'Place': 'Hyderabad', 'Marks': 81, 'Grade': 'B', 'Gender': 'Female'},\n",
    "    {'_id': 17, 'FName': 'Liam', 'LName': 'Scott', 'Dept': 'EEE', 'Course': 'M.Tech', 'Place': 'Mumbai', 'Marks': 78, 'Grade': 'C', 'Gender': 'Male'},\n",
    "    {'_id': 18, 'FName': 'Ava', 'LName': 'Green', 'Dept': 'CA', 'Course': 'MCA', 'Place': 'Delhi', 'Marks': 93, 'Grade': 'A', 'Gender': 'Female'},\n",
    "    {'_id': 19, 'FName': 'Lucas', 'LName': 'Baker', 'Dept': 'Civil', 'Course': 'B.Tech', 'Place': 'Kolkata', 'Marks': 77, 'Grade': 'C', 'Gender': 'Male'},\n",
    "    {'_id': 20, 'FName': 'Mia', 'LName': 'Nelson', 'Dept': 'CSE', 'Course': 'M.Tech', 'Place': 'Pune', 'Marks': 90, 'Grade': 'A', 'Gender': 'Female'},\n",
    "    {'_id': 21, 'FName': 'Ethan', 'LName': 'Roberts', 'Dept': 'Mech', 'Course': 'B.Tech', 'Place': 'Delhi', 'Marks': 85, 'Grade': 'B', 'Gender': 'Male'},\n",
    "    {'_id': 22, 'FName': 'Isabella', 'LName': 'Martinez', 'Dept': 'Mech', 'Course': 'M.Tech', 'Place': 'Bangalore', 'Marks': 90, 'Grade': 'A', 'Gender': 'Female'},\n",
    "    {'_id': 23, 'FName': 'Oliver', 'LName': 'Hernandez', 'Dept': 'Mech', 'Course': 'B.Tech', 'Place': 'Kochi', 'Marks': 88, 'Grade': 'B', 'Gender': 'Male'},\n",
    "    {'_id': 24, 'FName': 'Amelia', 'LName': 'Lopez', 'Dept': 'Mech', 'Course': 'M.Tech', 'Place': 'Hyderabad', 'Marks': 92, 'Grade': 'A', 'Gender': 'Female'},\n",
    "    {'_id': 25, 'FName': 'Noah', 'LName': 'Gonzalez', 'Dept': 'Mech', 'Course': 'B.Tech', 'Place': 'Pune', 'Marks': 75, 'Grade': 'C', 'Gender': 'Male'}\n",
    "]\n",
    "col.insert_many(students_data)"
   ]
  }
 ],
 "metadata": {
  "kernelspec": {
   "display_name": "Python 3",
   "language": "python",
   "name": "python3"
  },
  "language_info": {
   "codemirror_mode": {
    "name": "ipython",
    "version": 3
   },
   "file_extension": ".py",
   "mimetype": "text/x-python",
   "name": "python",
   "nbconvert_exporter": "python",
   "pygments_lexer": "ipython3",
   "version": "3.12.0"
  }
 },
 "nbformat": 4,
 "nbformat_minor": 2
}
